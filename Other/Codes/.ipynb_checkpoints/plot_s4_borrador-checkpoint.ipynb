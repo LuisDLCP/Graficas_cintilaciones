{
 "cells": [
  {
   "cell_type": "markdown",
   "metadata": {},
   "source": [
    "# Plot S4 vs time in function of: frequency and constelation"
   ]
  },
  {
   "cell_type": "code",
   "execution_count": 5,
   "metadata": {},
   "outputs": [],
   "source": [
    "import pandas as pd\n",
    "import numpy as np\n",
    "import datetime \n",
    "import matplotlib.pyplot as plt"
   ]
  },
  {
   "cell_type": "markdown",
   "metadata": {},
   "source": [
    "## 1) Import scintilacion files (.s4)  "
   ]
  },
  {
   "cell_type": "code",
   "execution_count": 6,
   "metadata": {},
   "outputs": [
    {
     "name": "stderr",
     "output_type": "stream",
     "text": [
      "/home/luis/anaconda3/envs/tutorial_pandas/lib/python3.8/site-packages/IPython/core/interactiveshell.py:3071: DtypeWarning: Columns (7,8,13,14,15,16,31,32,37,38,103,104,109,110,111,112,113,127,128,129,130,134,135,138,139,153,154,160,162,163,164,199,200,205,206,207,208,223,224,229,230,247,248,253,254,255,256,271,272,277,278,295,296,297,298,301,302,303,304,306,307,369,370,378,379,415,416,421,422,423,463,464,469,470,471,472,473,511,512,517,518,519,520,521,544,545,583,584,589,590,591,592,593,607,608,613,614,615,616,631,632,637,638,655,656,661,662,663,664,665,679,680,683,684,685,686,695,696,697,703,704,707,708,709,710,711,712,719,720,721,722,731,732,743,744,745,751,752,755,756,757,758,767,768,806,807,808,809,817,818,819,820,825,826,834,835,836,837,838,844,849,850,858,859,860,861,862,868,871,872,873,874,877,878,879,880,881,882,883,884,885,886,891,892,897,898,906,907,908,909,910) have mixed types.Specify dtype option on import or set low_memory=False.\n",
      "  has_raised = await self.run_ast_nodes(code_ast.body, cell_name,\n"
     ]
    },
    {
     "data": {
      "text/html": [
       "<div>\n",
       "<style scoped>\n",
       "    .dataframe tbody tr th:only-of-type {\n",
       "        vertical-align: middle;\n",
       "    }\n",
       "\n",
       "    .dataframe tbody tr th {\n",
       "        vertical-align: top;\n",
       "    }\n",
       "\n",
       "    .dataframe thead th {\n",
       "        text-align: right;\n",
       "    }\n",
       "</style>\n",
       "<table border=\"1\" class=\"dataframe\">\n",
       "  <thead>\n",
       "    <tr style=\"text-align: right;\">\n",
       "      <th></th>\n",
       "      <th>0</th>\n",
       "      <th>1</th>\n",
       "      <th>2</th>\n",
       "      <th>3</th>\n",
       "      <th>4</th>\n",
       "      <th>5</th>\n",
       "      <th>6</th>\n",
       "      <th>7</th>\n",
       "      <th>8</th>\n",
       "      <th>9</th>\n",
       "      <th>...</th>\n",
       "      <th>906</th>\n",
       "      <th>907</th>\n",
       "      <th>908</th>\n",
       "      <th>909</th>\n",
       "      <th>910</th>\n",
       "      <th>911</th>\n",
       "      <th>912</th>\n",
       "      <th>913</th>\n",
       "      <th>914</th>\n",
       "      <th>915</th>\n",
       "    </tr>\n",
       "  </thead>\n",
       "  <tbody>\n",
       "    <tr>\n",
       "      <th>0</th>\n",
       "      <td>20</td>\n",
       "      <td>270</td>\n",
       "      <td>60</td>\n",
       "      <td>35</td>\n",
       "      <td>G10</td>\n",
       "      <td>99.0</td>\n",
       "      <td>72.0</td>\n",
       "      <td>0.023</td>\n",
       "      <td>0.025</td>\n",
       "      <td>0.042</td>\n",
       "      <td>...</td>\n",
       "      <td>NaN</td>\n",
       "      <td>NaN</td>\n",
       "      <td>NaN</td>\n",
       "      <td>NaN</td>\n",
       "      <td>NaN</td>\n",
       "      <td>NaN</td>\n",
       "      <td>NaN</td>\n",
       "      <td>NaN</td>\n",
       "      <td>NaN</td>\n",
       "      <td>NaN</td>\n",
       "    </tr>\n",
       "    <tr>\n",
       "      <th>1</th>\n",
       "      <td>20</td>\n",
       "      <td>270</td>\n",
       "      <td>120</td>\n",
       "      <td>35</td>\n",
       "      <td>G10</td>\n",
       "      <td>101.0</td>\n",
       "      <td>72.0</td>\n",
       "      <td>0.022</td>\n",
       "      <td>0.024</td>\n",
       "      <td>0.036</td>\n",
       "      <td>...</td>\n",
       "      <td>NaN</td>\n",
       "      <td>NaN</td>\n",
       "      <td>NaN</td>\n",
       "      <td>NaN</td>\n",
       "      <td>NaN</td>\n",
       "      <td>NaN</td>\n",
       "      <td>NaN</td>\n",
       "      <td>NaN</td>\n",
       "      <td>NaN</td>\n",
       "      <td>NaN</td>\n",
       "    </tr>\n",
       "    <tr>\n",
       "      <th>2</th>\n",
       "      <td>20</td>\n",
       "      <td>270</td>\n",
       "      <td>180</td>\n",
       "      <td>35</td>\n",
       "      <td>G10</td>\n",
       "      <td>102.0</td>\n",
       "      <td>72.0</td>\n",
       "      <td>0.023</td>\n",
       "      <td>0.025</td>\n",
       "      <td>0.035</td>\n",
       "      <td>...</td>\n",
       "      <td>NaN</td>\n",
       "      <td>NaN</td>\n",
       "      <td>NaN</td>\n",
       "      <td>NaN</td>\n",
       "      <td>NaN</td>\n",
       "      <td>NaN</td>\n",
       "      <td>NaN</td>\n",
       "      <td>NaN</td>\n",
       "      <td>NaN</td>\n",
       "      <td>NaN</td>\n",
       "    </tr>\n",
       "  </tbody>\n",
       "</table>\n",
       "<p>3 rows × 916 columns</p>\n",
       "</div>"
      ],
      "text/plain": [
       "   0    1    2    3    4      5     6       7       8       9    ...  906  \\\n",
       "0   20  270   60   35  G10   99.0  72.0   0.023   0.025   0.042  ...  NaN   \n",
       "1   20  270  120   35  G10  101.0  72.0   0.022   0.024   0.036  ...  NaN   \n",
       "2   20  270  180   35  G10  102.0  72.0   0.023   0.025   0.035  ...  NaN   \n",
       "\n",
       "   907  908  909  910 911 912 913 914 915  \n",
       "0  NaN  NaN  NaN  NaN NaN NaN NaN NaN NaN  \n",
       "1  NaN  NaN  NaN  NaN NaN NaN NaN NaN NaN  \n",
       "2  NaN  NaN  NaN  NaN NaN NaN NaN NaN NaN  \n",
       "\n",
       "[3 rows x 916 columns]"
      ]
     },
     "execution_count": 6,
     "metadata": {},
     "output_type": "execute_result"
    }
   ],
   "source": [
    "directorio = \"/home/luis/Desktop/Proyects_Files/LISN/GPSs/Tareas/Graficas_cintilaciones/Input_data/Data_set/\"\n",
    "df1 = pd.read_csv(directorio + \"ljic_200926.s4\", header=None, sep=\"\\t\")\n",
    "df1.head(3)"
   ]
  },
  {
   "cell_type": "code",
   "execution_count": 7,
   "metadata": {},
   "outputs": [
    {
     "name": "stdout",
     "output_type": "stream",
     "text": [
      "<class 'pandas.core.frame.DataFrame'>\n",
      "RangeIndex: 1439 entries, 0 to 1438\n",
      "Columns: 916 entries, 0 to 915\n",
      "dtypes: float64(161), int64(4), object(751)\n",
      "memory usage: 10.1+ MB\n"
     ]
    }
   ],
   "source": [
    "df1.info()"
   ]
  },
  {
   "cell_type": "markdown",
   "metadata": {},
   "source": [
    "## 2. Process that dataframe"
   ]
  },
  {
   "cell_type": "code",
   "execution_count": 8,
   "metadata": {},
   "outputs": [
    {
     "data": {
      "text/html": [
       "<div>\n",
       "<style scoped>\n",
       "    .dataframe tbody tr th:only-of-type {\n",
       "        vertical-align: middle;\n",
       "    }\n",
       "\n",
       "    .dataframe tbody tr th {\n",
       "        vertical-align: top;\n",
       "    }\n",
       "\n",
       "    .dataframe thead th {\n",
       "        text-align: right;\n",
       "    }\n",
       "</style>\n",
       "<table border=\"1\" class=\"dataframe\">\n",
       "  <thead>\n",
       "    <tr style=\"text-align: right;\">\n",
       "      <th></th>\n",
       "      <th>0</th>\n",
       "      <th>1</th>\n",
       "      <th>2</th>\n",
       "      <th>3</th>\n",
       "      <th>4</th>\n",
       "      <th>7</th>\n",
       "      <th>8</th>\n",
       "      <th>9</th>\n",
       "      <th>10</th>\n",
       "      <th>11</th>\n",
       "      <th>...</th>\n",
       "      <th>874</th>\n",
       "      <th>875</th>\n",
       "      <th>876</th>\n",
       "      <th>892</th>\n",
       "      <th>895</th>\n",
       "      <th>896</th>\n",
       "      <th>897</th>\n",
       "      <th>898</th>\n",
       "      <th>899</th>\n",
       "      <th>900</th>\n",
       "    </tr>\n",
       "  </thead>\n",
       "  <tbody>\n",
       "    <tr>\n",
       "      <th>0</th>\n",
       "      <td>20</td>\n",
       "      <td>270</td>\n",
       "      <td>60</td>\n",
       "      <td>35</td>\n",
       "      <td>G10</td>\n",
       "      <td>0.023</td>\n",
       "      <td>0.025</td>\n",
       "      <td>0.042</td>\n",
       "      <td>0.036</td>\n",
       "      <td>0.023</td>\n",
       "      <td>...</td>\n",
       "      <td>NaN</td>\n",
       "      <td>NaN</td>\n",
       "      <td>NaN</td>\n",
       "      <td>NaN</td>\n",
       "      <td>NaN</td>\n",
       "      <td>NaN</td>\n",
       "      <td>NaN</td>\n",
       "      <td>NaN</td>\n",
       "      <td>NaN</td>\n",
       "      <td>NaN</td>\n",
       "    </tr>\n",
       "    <tr>\n",
       "      <th>1</th>\n",
       "      <td>20</td>\n",
       "      <td>270</td>\n",
       "      <td>120</td>\n",
       "      <td>35</td>\n",
       "      <td>G10</td>\n",
       "      <td>0.022</td>\n",
       "      <td>0.024</td>\n",
       "      <td>0.036</td>\n",
       "      <td>0.035</td>\n",
       "      <td>0.022</td>\n",
       "      <td>...</td>\n",
       "      <td>NaN</td>\n",
       "      <td>NaN</td>\n",
       "      <td>NaN</td>\n",
       "      <td>NaN</td>\n",
       "      <td>NaN</td>\n",
       "      <td>NaN</td>\n",
       "      <td>NaN</td>\n",
       "      <td>NaN</td>\n",
       "      <td>NaN</td>\n",
       "      <td>NaN</td>\n",
       "    </tr>\n",
       "    <tr>\n",
       "      <th>2</th>\n",
       "      <td>20</td>\n",
       "      <td>270</td>\n",
       "      <td>180</td>\n",
       "      <td>35</td>\n",
       "      <td>G10</td>\n",
       "      <td>0.023</td>\n",
       "      <td>0.025</td>\n",
       "      <td>0.035</td>\n",
       "      <td>0.036</td>\n",
       "      <td>0.024</td>\n",
       "      <td>...</td>\n",
       "      <td>NaN</td>\n",
       "      <td>NaN</td>\n",
       "      <td>NaN</td>\n",
       "      <td>NaN</td>\n",
       "      <td>NaN</td>\n",
       "      <td>NaN</td>\n",
       "      <td>NaN</td>\n",
       "      <td>NaN</td>\n",
       "      <td>NaN</td>\n",
       "      <td>NaN</td>\n",
       "    </tr>\n",
       "    <tr>\n",
       "      <th>3</th>\n",
       "      <td>20</td>\n",
       "      <td>270</td>\n",
       "      <td>240</td>\n",
       "      <td>35</td>\n",
       "      <td>G10</td>\n",
       "      <td>0.023</td>\n",
       "      <td>0.025</td>\n",
       "      <td>0.042</td>\n",
       "      <td>0.037</td>\n",
       "      <td>0.025</td>\n",
       "      <td>...</td>\n",
       "      <td>NaN</td>\n",
       "      <td>NaN</td>\n",
       "      <td>NaN</td>\n",
       "      <td>NaN</td>\n",
       "      <td>NaN</td>\n",
       "      <td>NaN</td>\n",
       "      <td>NaN</td>\n",
       "      <td>NaN</td>\n",
       "      <td>NaN</td>\n",
       "      <td>NaN</td>\n",
       "    </tr>\n",
       "    <tr>\n",
       "      <th>4</th>\n",
       "      <td>20</td>\n",
       "      <td>270</td>\n",
       "      <td>300</td>\n",
       "      <td>35</td>\n",
       "      <td>G10</td>\n",
       "      <td>0.020</td>\n",
       "      <td>0.024</td>\n",
       "      <td>0.036</td>\n",
       "      <td>0.037</td>\n",
       "      <td>0.029</td>\n",
       "      <td>...</td>\n",
       "      <td>NaN</td>\n",
       "      <td>NaN</td>\n",
       "      <td>NaN</td>\n",
       "      <td>NaN</td>\n",
       "      <td>NaN</td>\n",
       "      <td>NaN</td>\n",
       "      <td>NaN</td>\n",
       "      <td>NaN</td>\n",
       "      <td>NaN</td>\n",
       "      <td>NaN</td>\n",
       "    </tr>\n",
       "  </tbody>\n",
       "</table>\n",
       "<p>5 rows × 270 columns</p>\n",
       "</div>"
      ],
      "text/plain": [
       "   0    1    2    3    4       7       8       9       10      11   ...  874  \\\n",
       "0   20  270   60   35  G10   0.023   0.025   0.042   0.036   0.023  ...  NaN   \n",
       "1   20  270  120   35  G10   0.022   0.024   0.036   0.035   0.022  ...  NaN   \n",
       "2   20  270  180   35  G10   0.023   0.025   0.035   0.036   0.024  ...  NaN   \n",
       "3   20  270  240   35  G10   0.023   0.025   0.042   0.037   0.025  ...  NaN   \n",
       "4   20  270  300   35  G10   0.020   0.024   0.036   0.037   0.029  ...  NaN   \n",
       "\n",
       "  875 876  892 895 896  897  898 899 900  \n",
       "0 NaN NaN  NaN NaN NaN  NaN  NaN NaN NaN  \n",
       "1 NaN NaN  NaN NaN NaN  NaN  NaN NaN NaN  \n",
       "2 NaN NaN  NaN NaN NaN  NaN  NaN NaN NaN  \n",
       "3 NaN NaN  NaN NaN NaN  NaN  NaN NaN NaN  \n",
       "4 NaN NaN  NaN NaN NaN  NaN  NaN NaN NaN  \n",
       "\n",
       "[5 rows x 270 columns]"
      ]
     },
     "execution_count": 8,
     "metadata": {},
     "output_type": "execute_result"
    }
   ],
   "source": [
    "# Eliminacion de ciertas columnas\n",
    "for i in df1.columns:\n",
    "    if i>3:\n",
    "        m = (i-4)%24\n",
    "        if m == 1: del df1[i]\n",
    "        elif m == 2: del df1[i]\n",
    "        elif m >= 9: del df1[i]\n",
    "\n",
    "#df1.head()\n",
    "df1.head()"
   ]
  },
  {
   "cell_type": "code",
   "execution_count": 9,
   "metadata": {},
   "outputs": [
    {
     "name": "stdout",
     "output_type": "stream",
     "text": [
      "<class 'pandas.core.frame.DataFrame'>\n",
      "RangeIndex: 1439 entries, 0 to 1438\n",
      "Columns: 270 entries, 0 to 900\n",
      "dtypes: float64(28), int64(4), object(238)\n",
      "memory usage: 3.0+ MB\n"
     ]
    }
   ],
   "source": [
    "df1.info()"
   ]
  },
  {
   "cell_type": "code",
   "execution_count": 10,
   "metadata": {},
   "outputs": [
    {
     "data": {
      "text/html": [
       "<div>\n",
       "<style scoped>\n",
       "    .dataframe tbody tr th:only-of-type {\n",
       "        vertical-align: middle;\n",
       "    }\n",
       "\n",
       "    .dataframe tbody tr th {\n",
       "        vertical-align: top;\n",
       "    }\n",
       "\n",
       "    .dataframe thead th {\n",
       "        text-align: right;\n",
       "    }\n",
       "</style>\n",
       "<table border=\"1\" class=\"dataframe\">\n",
       "  <thead>\n",
       "    <tr style=\"text-align: right;\">\n",
       "      <th></th>\n",
       "      <th>0</th>\n",
       "      <th>1</th>\n",
       "      <th>2</th>\n",
       "      <th>3</th>\n",
       "      <th>4</th>\n",
       "      <th>5</th>\n",
       "      <th>6</th>\n",
       "      <th>7</th>\n",
       "      <th>8</th>\n",
       "      <th>9</th>\n",
       "      <th>...</th>\n",
       "      <th>260</th>\n",
       "      <th>261</th>\n",
       "      <th>262</th>\n",
       "      <th>263</th>\n",
       "      <th>264</th>\n",
       "      <th>265</th>\n",
       "      <th>266</th>\n",
       "      <th>267</th>\n",
       "      <th>268</th>\n",
       "      <th>269</th>\n",
       "    </tr>\n",
       "  </thead>\n",
       "  <tbody>\n",
       "    <tr>\n",
       "      <th>0</th>\n",
       "      <td>20</td>\n",
       "      <td>270</td>\n",
       "      <td>60</td>\n",
       "      <td>35</td>\n",
       "      <td>G10</td>\n",
       "      <td>0.023</td>\n",
       "      <td>0.025</td>\n",
       "      <td>0.042</td>\n",
       "      <td>0.036</td>\n",
       "      <td>0.023</td>\n",
       "      <td>...</td>\n",
       "      <td>NaN</td>\n",
       "      <td>NaN</td>\n",
       "      <td>NaN</td>\n",
       "      <td>NaN</td>\n",
       "      <td>NaN</td>\n",
       "      <td>NaN</td>\n",
       "      <td>NaN</td>\n",
       "      <td>NaN</td>\n",
       "      <td>NaN</td>\n",
       "      <td>NaN</td>\n",
       "    </tr>\n",
       "    <tr>\n",
       "      <th>1</th>\n",
       "      <td>20</td>\n",
       "      <td>270</td>\n",
       "      <td>120</td>\n",
       "      <td>35</td>\n",
       "      <td>G10</td>\n",
       "      <td>0.022</td>\n",
       "      <td>0.024</td>\n",
       "      <td>0.036</td>\n",
       "      <td>0.035</td>\n",
       "      <td>0.022</td>\n",
       "      <td>...</td>\n",
       "      <td>NaN</td>\n",
       "      <td>NaN</td>\n",
       "      <td>NaN</td>\n",
       "      <td>NaN</td>\n",
       "      <td>NaN</td>\n",
       "      <td>NaN</td>\n",
       "      <td>NaN</td>\n",
       "      <td>NaN</td>\n",
       "      <td>NaN</td>\n",
       "      <td>NaN</td>\n",
       "    </tr>\n",
       "  </tbody>\n",
       "</table>\n",
       "<p>2 rows × 270 columns</p>\n",
       "</div>"
      ],
      "text/plain": [
       "   0    1    2    3    4       5       6       7       8       9    ...  260  \\\n",
       "0   20  270   60   35  G10   0.023   0.025   0.042   0.036   0.023  ...  NaN   \n",
       "1   20  270  120   35  G10   0.022   0.024   0.036   0.035   0.022  ...  NaN   \n",
       "\n",
       "  261 262  263 264 265  266  267 268 269  \n",
       "0 NaN NaN  NaN NaN NaN  NaN  NaN NaN NaN  \n",
       "1 NaN NaN  NaN NaN NaN  NaN  NaN NaN NaN  \n",
       "\n",
       "[2 rows x 270 columns]"
      ]
     },
     "execution_count": 10,
     "metadata": {},
     "output_type": "execute_result"
    }
   ],
   "source": [
    "df1.columns = np.arange(len(df1.columns)) # Rename the columns \n",
    "df1.head(2)"
   ]
  },
  {
   "cell_type": "code",
   "execution_count": 11,
   "metadata": {},
   "outputs": [
    {
     "ename": "KeyboardInterrupt",
     "evalue": "",
     "output_type": "error",
     "traceback": [
      "\u001b[0;31m---------------------------------------------------------------------------\u001b[0m",
      "\u001b[0;31mKeyboardInterrupt\u001b[0m                         Traceback (most recent call last)",
      "\u001b[0;32m<ipython-input-11-5c3513376c83>\u001b[0m in \u001b[0;36m<module>\u001b[0;34m\u001b[0m\n\u001b[1;32m      8\u001b[0m         \u001b[0mm\u001b[0m \u001b[0;34m=\u001b[0m \u001b[0mdf1\u001b[0m\u001b[0;34m.\u001b[0m\u001b[0miloc\u001b[0m\u001b[0;34m[\u001b[0m\u001b[0mi\u001b[0m\u001b[0;34m,\u001b[0m\u001b[0;34m[\u001b[0m\u001b[0;36m0\u001b[0m\u001b[0;34m,\u001b[0m\u001b[0;36m1\u001b[0m\u001b[0;34m,\u001b[0m\u001b[0;36m2\u001b[0m\u001b[0;34m,\u001b[0m\u001b[0;36m4\u001b[0m\u001b[0;34m+\u001b[0m\u001b[0mT\u001b[0m\u001b[0;34m*\u001b[0m\u001b[0mh\u001b[0m\u001b[0;34m,\u001b[0m\u001b[0;36m5\u001b[0m\u001b[0;34m+\u001b[0m\u001b[0mT\u001b[0m\u001b[0;34m*\u001b[0m\u001b[0mh\u001b[0m\u001b[0;34m,\u001b[0m\u001b[0;36m6\u001b[0m\u001b[0;34m+\u001b[0m\u001b[0mT\u001b[0m\u001b[0;34m*\u001b[0m\u001b[0mh\u001b[0m\u001b[0;34m,\u001b[0m\u001b[0;36m7\u001b[0m\u001b[0;34m+\u001b[0m\u001b[0mT\u001b[0m\u001b[0;34m*\u001b[0m\u001b[0mh\u001b[0m\u001b[0;34m,\u001b[0m\u001b[0;36m8\u001b[0m\u001b[0;34m+\u001b[0m\u001b[0mT\u001b[0m\u001b[0;34m*\u001b[0m\u001b[0mh\u001b[0m\u001b[0;34m,\u001b[0m\u001b[0;36m9\u001b[0m\u001b[0;34m+\u001b[0m\u001b[0mT\u001b[0m\u001b[0;34m*\u001b[0m\u001b[0mh\u001b[0m\u001b[0;34m,\u001b[0m\u001b[0;36m10\u001b[0m\u001b[0;34m+\u001b[0m\u001b[0mT\u001b[0m\u001b[0;34m*\u001b[0m\u001b[0mh\u001b[0m\u001b[0;34m]\u001b[0m\u001b[0;34m]\u001b[0m\u001b[0;34m\u001b[0m\u001b[0;34m\u001b[0m\u001b[0m\n\u001b[1;32m      9\u001b[0m         \u001b[0mm\u001b[0m\u001b[0;34m.\u001b[0m\u001b[0mindex\u001b[0m \u001b[0;34m=\u001b[0m \u001b[0mrange\u001b[0m\u001b[0;34m(\u001b[0m\u001b[0mlen\u001b[0m\u001b[0;34m(\u001b[0m\u001b[0mm\u001b[0m\u001b[0;34m)\u001b[0m\u001b[0;34m)\u001b[0m\u001b[0;34m\u001b[0m\u001b[0;34m\u001b[0m\u001b[0m\n\u001b[0;32m---> 10\u001b[0;31m         \u001b[0mdf2\u001b[0m \u001b[0;34m=\u001b[0m \u001b[0mdf2\u001b[0m\u001b[0;34m.\u001b[0m\u001b[0mappend\u001b[0m\u001b[0;34m(\u001b[0m\u001b[0mm\u001b[0m\u001b[0;34m)\u001b[0m\u001b[0;34m\u001b[0m\u001b[0;34m\u001b[0m\u001b[0m\n\u001b[0m\u001b[1;32m     11\u001b[0m \u001b[0;34m\u001b[0m\u001b[0m\n\u001b[1;32m     12\u001b[0m \u001b[0mdf2\u001b[0m\u001b[0;34m.\u001b[0m\u001b[0mindex\u001b[0m \u001b[0;34m=\u001b[0m \u001b[0mrange\u001b[0m\u001b[0;34m(\u001b[0m\u001b[0mlen\u001b[0m\u001b[0;34m(\u001b[0m\u001b[0mdf2\u001b[0m\u001b[0;34m)\u001b[0m\u001b[0;34m)\u001b[0m\u001b[0;34m\u001b[0m\u001b[0;34m\u001b[0m\u001b[0m\n",
      "\u001b[0;32m~/anaconda3/envs/tutorial_pandas/lib/python3.8/site-packages/pandas/core/frame.py\u001b[0m in \u001b[0;36mappend\u001b[0;34m(self, other, ignore_index, verify_integrity, sort)\u001b[0m\n\u001b[1;32m   7713\u001b[0m                 \u001b[0mcombined_columns\u001b[0m \u001b[0;34m=\u001b[0m \u001b[0mself\u001b[0m\u001b[0;34m.\u001b[0m\u001b[0mcolumns\u001b[0m\u001b[0;34m.\u001b[0m\u001b[0mastype\u001b[0m\u001b[0;34m(\u001b[0m\u001b[0mobject\u001b[0m\u001b[0;34m)\u001b[0m\u001b[0;34m.\u001b[0m\u001b[0mappend\u001b[0m\u001b[0;34m(\u001b[0m\u001b[0midx_diff\u001b[0m\u001b[0;34m)\u001b[0m\u001b[0;34m\u001b[0m\u001b[0;34m\u001b[0m\u001b[0m\n\u001b[1;32m   7714\u001b[0m             other = (\n\u001b[0;32m-> 7715\u001b[0;31m                 \u001b[0mother\u001b[0m\u001b[0;34m.\u001b[0m\u001b[0mreindex\u001b[0m\u001b[0;34m(\u001b[0m\u001b[0mcombined_columns\u001b[0m\u001b[0;34m,\u001b[0m \u001b[0mcopy\u001b[0m\u001b[0;34m=\u001b[0m\u001b[0;32mFalse\u001b[0m\u001b[0;34m)\u001b[0m\u001b[0;34m\u001b[0m\u001b[0;34m\u001b[0m\u001b[0m\n\u001b[0m\u001b[1;32m   7716\u001b[0m                 \u001b[0;34m.\u001b[0m\u001b[0mto_frame\u001b[0m\u001b[0;34m(\u001b[0m\u001b[0;34m)\u001b[0m\u001b[0;34m\u001b[0m\u001b[0;34m\u001b[0m\u001b[0m\n\u001b[1;32m   7717\u001b[0m                 \u001b[0;34m.\u001b[0m\u001b[0mT\u001b[0m\u001b[0;34m.\u001b[0m\u001b[0minfer_objects\u001b[0m\u001b[0;34m(\u001b[0m\u001b[0;34m)\u001b[0m\u001b[0;34m\u001b[0m\u001b[0;34m\u001b[0m\u001b[0m\n",
      "\u001b[0;32m~/anaconda3/envs/tutorial_pandas/lib/python3.8/site-packages/pandas/core/generic.py\u001b[0m in \u001b[0;36minfer_objects\u001b[0;34m(self)\u001b[0m\n\u001b[1;32m   5751\u001b[0m         \u001b[0;31m# native numpy numeric types\u001b[0m\u001b[0;34m\u001b[0m\u001b[0;34m\u001b[0m\u001b[0;34m\u001b[0m\u001b[0m\n\u001b[1;32m   5752\u001b[0m         return self._constructor(\n\u001b[0;32m-> 5753\u001b[0;31m             self._mgr.convert(\n\u001b[0m\u001b[1;32m   5754\u001b[0m                 \u001b[0mdatetime\u001b[0m\u001b[0;34m=\u001b[0m\u001b[0;32mTrue\u001b[0m\u001b[0;34m,\u001b[0m \u001b[0mnumeric\u001b[0m\u001b[0;34m=\u001b[0m\u001b[0;32mFalse\u001b[0m\u001b[0;34m,\u001b[0m \u001b[0mtimedelta\u001b[0m\u001b[0;34m=\u001b[0m\u001b[0;32mTrue\u001b[0m\u001b[0;34m,\u001b[0m \u001b[0mcoerce\u001b[0m\u001b[0;34m=\u001b[0m\u001b[0;32mFalse\u001b[0m\u001b[0;34m,\u001b[0m \u001b[0mcopy\u001b[0m\u001b[0;34m=\u001b[0m\u001b[0;32mTrue\u001b[0m\u001b[0;34m\u001b[0m\u001b[0;34m\u001b[0m\u001b[0m\n\u001b[1;32m   5755\u001b[0m             )\n",
      "\u001b[0;32m~/anaconda3/envs/tutorial_pandas/lib/python3.8/site-packages/pandas/core/internals/managers.py\u001b[0m in \u001b[0;36mconvert\u001b[0;34m(self, copy, datetime, numeric, timedelta, coerce)\u001b[0m\n\u001b[1;32m    575\u001b[0m         \u001b[0mcoerce\u001b[0m\u001b[0;34m:\u001b[0m \u001b[0mbool\u001b[0m \u001b[0;34m=\u001b[0m \u001b[0;32mFalse\u001b[0m\u001b[0;34m,\u001b[0m\u001b[0;34m\u001b[0m\u001b[0;34m\u001b[0m\u001b[0m\n\u001b[1;32m    576\u001b[0m     ) -> \"BlockManager\":\n\u001b[0;32m--> 577\u001b[0;31m         return self.apply(\n\u001b[0m\u001b[1;32m    578\u001b[0m             \u001b[0;34m\"convert\"\u001b[0m\u001b[0;34m,\u001b[0m\u001b[0;34m\u001b[0m\u001b[0;34m\u001b[0m\u001b[0m\n\u001b[1;32m    579\u001b[0m             \u001b[0mcopy\u001b[0m\u001b[0;34m=\u001b[0m\u001b[0mcopy\u001b[0m\u001b[0;34m,\u001b[0m\u001b[0;34m\u001b[0m\u001b[0;34m\u001b[0m\u001b[0m\n",
      "\u001b[0;32m~/anaconda3/envs/tutorial_pandas/lib/python3.8/site-packages/pandas/core/internals/managers.py\u001b[0m in \u001b[0;36mapply\u001b[0;34m(self, f, align_keys, **kwargs)\u001b[0m\n\u001b[1;32m    394\u001b[0m                 \u001b[0mapplied\u001b[0m \u001b[0;34m=\u001b[0m \u001b[0mb\u001b[0m\u001b[0;34m.\u001b[0m\u001b[0mapply\u001b[0m\u001b[0;34m(\u001b[0m\u001b[0mf\u001b[0m\u001b[0;34m,\u001b[0m \u001b[0;34m**\u001b[0m\u001b[0mkwargs\u001b[0m\u001b[0;34m)\u001b[0m\u001b[0;34m\u001b[0m\u001b[0;34m\u001b[0m\u001b[0m\n\u001b[1;32m    395\u001b[0m             \u001b[0;32melse\u001b[0m\u001b[0;34m:\u001b[0m\u001b[0;34m\u001b[0m\u001b[0;34m\u001b[0m\u001b[0m\n\u001b[0;32m--> 396\u001b[0;31m                 \u001b[0mapplied\u001b[0m \u001b[0;34m=\u001b[0m \u001b[0mgetattr\u001b[0m\u001b[0;34m(\u001b[0m\u001b[0mb\u001b[0m\u001b[0;34m,\u001b[0m \u001b[0mf\u001b[0m\u001b[0;34m)\u001b[0m\u001b[0;34m(\u001b[0m\u001b[0;34m**\u001b[0m\u001b[0mkwargs\u001b[0m\u001b[0;34m)\u001b[0m\u001b[0;34m\u001b[0m\u001b[0;34m\u001b[0m\u001b[0m\n\u001b[0m\u001b[1;32m    397\u001b[0m             \u001b[0mresult_blocks\u001b[0m \u001b[0;34m=\u001b[0m \u001b[0m_extend_blocks\u001b[0m\u001b[0;34m(\u001b[0m\u001b[0mapplied\u001b[0m\u001b[0;34m,\u001b[0m \u001b[0mresult_blocks\u001b[0m\u001b[0;34m)\u001b[0m\u001b[0;34m\u001b[0m\u001b[0;34m\u001b[0m\u001b[0m\n\u001b[1;32m    398\u001b[0m \u001b[0;34m\u001b[0m\u001b[0m\n",
      "\u001b[0;32m~/anaconda3/envs/tutorial_pandas/lib/python3.8/site-packages/pandas/core/internals/blocks.py\u001b[0m in \u001b[0;36mconvert\u001b[0;34m(self, copy, datetime, numeric, timedelta, coerce)\u001b[0m\n\u001b[1;32m   2412\u001b[0m \u001b[0;34m\u001b[0m\u001b[0m\n\u001b[1;32m   2413\u001b[0m         \u001b[0;32mif\u001b[0m \u001b[0mself\u001b[0m\u001b[0;34m.\u001b[0m\u001b[0mndim\u001b[0m \u001b[0;34m==\u001b[0m \u001b[0;36m2\u001b[0m\u001b[0;34m:\u001b[0m\u001b[0;34m\u001b[0m\u001b[0;34m\u001b[0m\u001b[0m\n\u001b[0;32m-> 2414\u001b[0;31m             \u001b[0mblocks\u001b[0m \u001b[0;34m=\u001b[0m \u001b[0mself\u001b[0m\u001b[0;34m.\u001b[0m\u001b[0msplit_and_operate\u001b[0m\u001b[0;34m(\u001b[0m\u001b[0;32mNone\u001b[0m\u001b[0;34m,\u001b[0m \u001b[0mf\u001b[0m\u001b[0;34m,\u001b[0m \u001b[0;32mFalse\u001b[0m\u001b[0;34m)\u001b[0m\u001b[0;34m\u001b[0m\u001b[0;34m\u001b[0m\u001b[0m\n\u001b[0m\u001b[1;32m   2415\u001b[0m         \u001b[0;32melse\u001b[0m\u001b[0;34m:\u001b[0m\u001b[0;34m\u001b[0m\u001b[0;34m\u001b[0m\u001b[0m\n\u001b[1;32m   2416\u001b[0m             \u001b[0mvalues\u001b[0m \u001b[0;34m=\u001b[0m \u001b[0mf\u001b[0m\u001b[0;34m(\u001b[0m\u001b[0;32mNone\u001b[0m\u001b[0;34m,\u001b[0m \u001b[0mself\u001b[0m\u001b[0;34m.\u001b[0m\u001b[0mvalues\u001b[0m\u001b[0;34m.\u001b[0m\u001b[0mravel\u001b[0m\u001b[0;34m(\u001b[0m\u001b[0;34m)\u001b[0m\u001b[0;34m,\u001b[0m \u001b[0;32mNone\u001b[0m\u001b[0;34m)\u001b[0m\u001b[0;34m\u001b[0m\u001b[0;34m\u001b[0m\u001b[0m\n",
      "\u001b[0;32m~/anaconda3/envs/tutorial_pandas/lib/python3.8/site-packages/pandas/core/internals/blocks.py\u001b[0m in \u001b[0;36msplit_and_operate\u001b[0;34m(self, mask, f, inplace)\u001b[0m\n\u001b[1;32m    456\u001b[0m             \u001b[0;31m# need a new block\u001b[0m\u001b[0;34m\u001b[0m\u001b[0;34m\u001b[0m\u001b[0;34m\u001b[0m\u001b[0m\n\u001b[1;32m    457\u001b[0m             \u001b[0;32mif\u001b[0m \u001b[0mm\u001b[0m\u001b[0;34m.\u001b[0m\u001b[0many\u001b[0m\u001b[0;34m(\u001b[0m\u001b[0;34m)\u001b[0m\u001b[0;34m:\u001b[0m\u001b[0;34m\u001b[0m\u001b[0;34m\u001b[0m\u001b[0m\n\u001b[0;32m--> 458\u001b[0;31m                 \u001b[0mnv\u001b[0m \u001b[0;34m=\u001b[0m \u001b[0mf\u001b[0m\u001b[0;34m(\u001b[0m\u001b[0mm\u001b[0m\u001b[0;34m,\u001b[0m \u001b[0mv\u001b[0m\u001b[0;34m,\u001b[0m \u001b[0mi\u001b[0m\u001b[0;34m)\u001b[0m\u001b[0;34m\u001b[0m\u001b[0;34m\u001b[0m\u001b[0m\n\u001b[0m\u001b[1;32m    459\u001b[0m             \u001b[0;32melse\u001b[0m\u001b[0;34m:\u001b[0m\u001b[0;34m\u001b[0m\u001b[0;34m\u001b[0m\u001b[0m\n\u001b[1;32m    460\u001b[0m                 \u001b[0mnv\u001b[0m \u001b[0;34m=\u001b[0m \u001b[0mv\u001b[0m \u001b[0;32mif\u001b[0m \u001b[0minplace\u001b[0m \u001b[0;32melse\u001b[0m \u001b[0mv\u001b[0m\u001b[0;34m.\u001b[0m\u001b[0mcopy\u001b[0m\u001b[0;34m(\u001b[0m\u001b[0;34m)\u001b[0m\u001b[0;34m\u001b[0m\u001b[0;34m\u001b[0m\u001b[0m\n",
      "\u001b[0;32m~/anaconda3/envs/tutorial_pandas/lib/python3.8/site-packages/pandas/core/internals/blocks.py\u001b[0m in \u001b[0;36mf\u001b[0;34m(mask, val, idx)\u001b[0m\n\u001b[1;32m   2397\u001b[0m         \u001b[0;32mdef\u001b[0m \u001b[0mf\u001b[0m\u001b[0;34m(\u001b[0m\u001b[0mmask\u001b[0m\u001b[0;34m,\u001b[0m \u001b[0mval\u001b[0m\u001b[0;34m,\u001b[0m \u001b[0midx\u001b[0m\u001b[0;34m)\u001b[0m\u001b[0;34m:\u001b[0m\u001b[0;34m\u001b[0m\u001b[0;34m\u001b[0m\u001b[0m\n\u001b[1;32m   2398\u001b[0m             \u001b[0mshape\u001b[0m \u001b[0;34m=\u001b[0m \u001b[0mval\u001b[0m\u001b[0;34m.\u001b[0m\u001b[0mshape\u001b[0m\u001b[0;34m\u001b[0m\u001b[0;34m\u001b[0m\u001b[0m\n\u001b[0;32m-> 2399\u001b[0;31m             values = soft_convert_objects(\n\u001b[0m\u001b[1;32m   2400\u001b[0m                 \u001b[0mval\u001b[0m\u001b[0;34m.\u001b[0m\u001b[0mravel\u001b[0m\u001b[0;34m(\u001b[0m\u001b[0;34m)\u001b[0m\u001b[0;34m,\u001b[0m\u001b[0;34m\u001b[0m\u001b[0;34m\u001b[0m\u001b[0m\n\u001b[1;32m   2401\u001b[0m                 \u001b[0mdatetime\u001b[0m\u001b[0;34m=\u001b[0m\u001b[0mdatetime\u001b[0m\u001b[0;34m,\u001b[0m\u001b[0;34m\u001b[0m\u001b[0;34m\u001b[0m\u001b[0m\n",
      "\u001b[0;32m~/anaconda3/envs/tutorial_pandas/lib/python3.8/site-packages/pandas/core/dtypes/cast.py\u001b[0m in \u001b[0;36msoft_convert_objects\u001b[0;34m(values, datetime, numeric, timedelta, coerce, copy)\u001b[0m\n\u001b[1;32m   1065\u001b[0m         )\n\u001b[1;32m   1066\u001b[0m \u001b[0;34m\u001b[0m\u001b[0m\n\u001b[0;32m-> 1067\u001b[0;31m     \u001b[0;32mif\u001b[0m \u001b[0;32mnot\u001b[0m \u001b[0mis_object_dtype\u001b[0m\u001b[0;34m(\u001b[0m\u001b[0mvalues\u001b[0m\u001b[0;34m.\u001b[0m\u001b[0mdtype\u001b[0m\u001b[0;34m)\u001b[0m\u001b[0;34m:\u001b[0m\u001b[0;34m\u001b[0m\u001b[0;34m\u001b[0m\u001b[0m\n\u001b[0m\u001b[1;32m   1068\u001b[0m         \u001b[0;31m# If not object, do not attempt conversion\u001b[0m\u001b[0;34m\u001b[0m\u001b[0;34m\u001b[0m\u001b[0;34m\u001b[0m\u001b[0m\n\u001b[1;32m   1069\u001b[0m         \u001b[0mvalues\u001b[0m \u001b[0;34m=\u001b[0m \u001b[0mvalues\u001b[0m\u001b[0;34m.\u001b[0m\u001b[0mcopy\u001b[0m\u001b[0;34m(\u001b[0m\u001b[0;34m)\u001b[0m \u001b[0;32mif\u001b[0m \u001b[0mcopy\u001b[0m \u001b[0;32melse\u001b[0m \u001b[0mvalues\u001b[0m\u001b[0;34m\u001b[0m\u001b[0;34m\u001b[0m\u001b[0m\n",
      "\u001b[0;32m~/anaconda3/envs/tutorial_pandas/lib/python3.8/site-packages/pandas/core/dtypes/common.py\u001b[0m in \u001b[0;36mis_object_dtype\u001b[0;34m(arr_or_dtype)\u001b[0m\n\u001b[1;32m    219\u001b[0m     \u001b[0;32mFalse\u001b[0m\u001b[0;34m\u001b[0m\u001b[0;34m\u001b[0m\u001b[0m\n\u001b[1;32m    220\u001b[0m     \"\"\"\n\u001b[0;32m--> 221\u001b[0;31m     \u001b[0;32mreturn\u001b[0m \u001b[0m_is_dtype_type\u001b[0m\u001b[0;34m(\u001b[0m\u001b[0marr_or_dtype\u001b[0m\u001b[0;34m,\u001b[0m \u001b[0mclasses\u001b[0m\u001b[0;34m(\u001b[0m\u001b[0mnp\u001b[0m\u001b[0;34m.\u001b[0m\u001b[0mobject_\u001b[0m\u001b[0;34m)\u001b[0m\u001b[0;34m)\u001b[0m\u001b[0;34m\u001b[0m\u001b[0;34m\u001b[0m\u001b[0m\n\u001b[0m\u001b[1;32m    222\u001b[0m \u001b[0;34m\u001b[0m\u001b[0m\n\u001b[1;32m    223\u001b[0m \u001b[0;34m\u001b[0m\u001b[0m\n",
      "\u001b[0;32m~/anaconda3/envs/tutorial_pandas/lib/python3.8/site-packages/pandas/core/dtypes/common.py\u001b[0m in \u001b[0;36m_is_dtype_type\u001b[0;34m(arr_or_dtype, condition)\u001b[0m\n\u001b[1;32m   1616\u001b[0m \u001b[0;34m\u001b[0m\u001b[0m\n\u001b[1;32m   1617\u001b[0m     \u001b[0;31m# fastpath\u001b[0m\u001b[0;34m\u001b[0m\u001b[0;34m\u001b[0m\u001b[0;34m\u001b[0m\u001b[0m\n\u001b[0;32m-> 1618\u001b[0;31m     \u001b[0;32mif\u001b[0m \u001b[0misinstance\u001b[0m\u001b[0;34m(\u001b[0m\u001b[0marr_or_dtype\u001b[0m\u001b[0;34m,\u001b[0m \u001b[0mnp\u001b[0m\u001b[0;34m.\u001b[0m\u001b[0mdtype\u001b[0m\u001b[0;34m)\u001b[0m\u001b[0;34m:\u001b[0m\u001b[0;34m\u001b[0m\u001b[0;34m\u001b[0m\u001b[0m\n\u001b[0m\u001b[1;32m   1619\u001b[0m         \u001b[0;32mreturn\u001b[0m \u001b[0mcondition\u001b[0m\u001b[0;34m(\u001b[0m\u001b[0marr_or_dtype\u001b[0m\u001b[0;34m.\u001b[0m\u001b[0mtype\u001b[0m\u001b[0;34m)\u001b[0m\u001b[0;34m\u001b[0m\u001b[0;34m\u001b[0m\u001b[0m\n\u001b[1;32m   1620\u001b[0m     \u001b[0;32melif\u001b[0m \u001b[0misinstance\u001b[0m\u001b[0;34m(\u001b[0m\u001b[0marr_or_dtype\u001b[0m\u001b[0;34m,\u001b[0m \u001b[0mtype\u001b[0m\u001b[0;34m)\u001b[0m\u001b[0;34m:\u001b[0m\u001b[0;34m\u001b[0m\u001b[0;34m\u001b[0m\u001b[0m\n",
      "\u001b[0;31mKeyboardInterrupt\u001b[0m: "
     ]
    }
   ],
   "source": [
    "# Creacion de un nuevo dataframe\n",
    "df2 = pd.DataFrame(columns=range(10))\n",
    "\n",
    "# Se llenan el resto de valores\n",
    "T = 7 # Period of dataset\n",
    "for i in range(len(df1)):\n",
    "    for h in range(df1.iloc[i,3]): # that cell contains the number of measurements \n",
    "        m = df1.iloc[i,[0,1,2,4+T*h,5+T*h,6+T*h,7+T*h,8+T*h,9+T*h,10+T*h]]\n",
    "        m.index = range(len(m))\n",
    "        df2 = df2.append(m)\n",
    "\n",
    "df2.index = range(len(df2))\n",
    "df2.head()"
   ]
  },
  {
   "cell_type": "code",
   "execution_count": null,
   "metadata": {},
   "outputs": [],
   "source": [
    "df2.info()"
   ]
  },
  {
   "cell_type": "code",
   "execution_count": null,
   "metadata": {},
   "outputs": [],
   "source": [
    "# Change type object to double \n",
    "for i in range(3):\n",
    "    df2[i] = df2[i].astype(\"int\")"
   ]
  },
  {
   "cell_type": "code",
   "execution_count": null,
   "metadata": {},
   "outputs": [],
   "source": [
    "df2.info()"
   ]
  },
  {
   "cell_type": "code",
   "execution_count": null,
   "metadata": {},
   "outputs": [],
   "source": [
    "# Change data type to str\n",
    "for i in range(6):\n",
    "    df2[4+i] = df2[4+i].astype(\"str\").str.strip().astype(\"float\")\n",
    "df2.head()"
   ]
  },
  {
   "cell_type": "code",
   "execution_count": null,
   "metadata": {},
   "outputs": [],
   "source": [
    "df2.info()"
   ]
  },
  {
   "cell_type": "code",
   "execution_count": null,
   "metadata": {},
   "outputs": [],
   "source": [
    "# Rename columns \n",
    "df2.columns = [\"YY\", \"DOY\", \"SOD\", \"PRN\", \"S4_sig1\", \"S4_sig1_corr\", \"S4_sig2\", \"S4_sig2_corr\", \"S4_sig3\", \"S4_sig3_corr\"]\n",
    "df2.head()"
   ]
  },
  {
   "cell_type": "code",
   "execution_count": null,
   "metadata": {},
   "outputs": [],
   "source": [
    "a=df2.iloc[1,8]\n",
    "print(a)\n",
    "type(a)\n",
    "pd.isnull(a)"
   ]
  },
  {
   "cell_type": "code",
   "execution_count": null,
   "metadata": {},
   "outputs": [],
   "source": [
    "# Calculate the corrected S4\n",
    "def get_correctedS4(row):\n",
    "    s4 = row[0]\n",
    "    correction= row[1]\n",
    "    \n",
    "    # Treat nan numbers \n",
    "    if pd.isnull(s4) or pd.isnull(correction):\n",
    "        return np.nan\n",
    "    else:\n",
    "        # Calculate the corrected S4\n",
    "        x = s4**2-correction**2\n",
    "        if x>0:\n",
    "            return x**0.5\n",
    "        else:\n",
    "            return 0    \n",
    "\n",
    "for i in range(3):        \n",
    "    df2[f\"S4_sig{i+1}\"] = df2[[f\"S4_sig{i+1}\",f\"S4_sig{i+1}_corr\"]].apply(get_correctedS4, axis=1)\n",
    "df2.head()"
   ]
  },
  {
   "cell_type": "code",
   "execution_count": null,
   "metadata": {},
   "outputs": [],
   "source": [
    "# Delete some columns\n",
    "del df2[\"S4_sig1_corr\"]\n",
    "del df2[\"S4_sig2_corr\"]\n",
    "del df2[\"S4_sig3_corr\"]\n",
    "df2.head()"
   ]
  },
  {
   "cell_type": "code",
   "execution_count": null,
   "metadata": {},
   "outputs": [],
   "source": [
    "# Sort values by \"PRN\" and \"SOD\" \n",
    "df2 = df2.sort_values([\"PRN\",\"SOD\"])\n",
    "\n",
    "# Reindex in ascendent order \n",
    "df2.index = range(len(df2))\n",
    "\n",
    "df2"
   ]
  },
  {
   "cell_type": "code",
   "execution_count": null,
   "metadata": {
    "scrolled": true
   },
   "outputs": [],
   "source": [
    "# Convert to datetime data type \n",
    "def change2datetime(row):\n",
    "    yy = int(row[0])\n",
    "    doy = int(row[1])\n",
    "    sod = int(row[2])\n",
    "    \n",
    "    if sod < 0: \n",
    "        doy = doy -1\n",
    "        sod = 60*60*24+sod      \n",
    "    \n",
    "    cdate = str(yy)+\"-\"+str(doy)+\"-\"+str(datetime.timedelta(seconds=sod))\n",
    "    fecha = datetime.datetime.strptime(cdate, \"%y-%j-%X\")\n",
    "    \n",
    "    return fecha  \n",
    "\n",
    "# Convert and assign\n",
    "m = df2.apply(change2datetime, axis=1)\n",
    "\n",
    "# Create the new column\n",
    "df2.insert(0,column=\"DateTime\",value=0)\n",
    "df2[\"DateTime\"] = m\n",
    "\n",
    "# Delete some columns \n",
    "del df2[\"YY\"]\n",
    "del df2[\"DOY\"]\n",
    "del df2[\"SOD\"]\n",
    "\n",
    "df2"
   ]
  },
  {
   "cell_type": "code",
   "execution_count": null,
   "metadata": {},
   "outputs": [],
   "source": [
    "df2.info()"
   ]
  },
  {
   "cell_type": "code",
   "execution_count": null,
   "metadata": {},
   "outputs": [],
   "source": [
    "df2.set_index(\"DateTime\", inplace=True)\n",
    "df2.head()"
   ]
  },
  {
   "cell_type": "markdown",
   "metadata": {},
   "source": [
    "Congratulations! The dataframe is ready to plot (y)"
   ]
  },
  {
   "cell_type": "markdown",
   "metadata": {},
   "source": [
    "## 3. Plot for each frequency and constellation"
   ]
  },
  {
   "cell_type": "code",
   "execution_count": null,
   "metadata": {},
   "outputs": [],
   "source": [
    "# Identify the available PRNs\n",
    "prns = df2[\"PRN\"].str[0].unique() # extract the first character of each cell \n",
    "prns"
   ]
  },
  {
   "cell_type": "code",
   "execution_count": null,
   "metadata": {},
   "outputs": [],
   "source": [
    "# Get current UTC date\n",
    "fecha = datetime.datetime.utcnow()\n",
    "fecha = fecha.strftime(\"%Y/%m/%d\")\n",
    "fecha"
   ]
  },
  {
   "cell_type": "code",
   "execution_count": null,
   "metadata": {},
   "outputs": [],
   "source": [
    "# Get the name for a given PRN code\n",
    "def get_prn_name(prn_code):\n",
    "    if prn_code == 'G': return 'GPS'\n",
    "    elif prn_code == 'R': return 'GLONASS'\n",
    "    elif prn_code == 'E': return 'GALILEO'\n",
    "    elif prn_code == 'S': return 'SBAS'\n",
    "    elif prn_code == 'C': return 'BEIDOU'\n",
    "    elif prn_code == 'J': return 'QZSS'\n",
    "    elif prn_code == 'I': return 'IRNSS'\n",
    "    else:\n",
    "        return 'Incorrect PRN code!'"
   ]
  },
  {
   "cell_type": "code",
   "execution_count": null,
   "metadata": {},
   "outputs": [],
   "source": [
    "a = get_prn_name('E')\n",
    "print(f\"El satelite es {a}\")"
   ]
  },
  {
   "cell_type": "code",
   "execution_count": null,
   "metadata": {},
   "outputs": [],
   "source": [
    "def get_sig_name(prn, sig):\n",
    "    if sig == 1:\n",
    "        if prn == 'G' or prn == 'R' or prn == 'S' or prn == 'J':\n",
    "            return 'L1CA'\n",
    "        elif prn == 'E':\n",
    "            return 'L1BC'\n",
    "        elif prn == 'C':\n",
    "            return 'B1'\n",
    "        elif prn == 'I':\n",
    "            return 'L5'\n",
    "        else: \n",
    "            return \"Insert a right code!\"\n",
    "    elif sig == 2:\n",
    "        if prn == 'G' or prn == 'R' or prn == 'J':\n",
    "            return 'L2C'\n",
    "        elif prn == 'E':\n",
    "            return 'E5a'\n",
    "        elif prn == 'C':\n",
    "            return 'B2'\n",
    "        elif prn == 'S':\n",
    "            return 'L5'\n",
    "        else: \n",
    "            return \"Insert a right code!\"\n",
    "    elif sig == 3:\n",
    "        if prn == 'G' or prn == 'J':\n",
    "            return 'L5'\n",
    "        elif prn == 'E':\n",
    "            return 'E5b'\n",
    "        elif prn == 'C':\n",
    "            return 'B3'\n",
    "        else: \n",
    "            return \"Insert a right code!\"\n",
    "    else:\n",
    "        \"Insert a right code!\""
   ]
  },
  {
   "cell_type": "code",
   "execution_count": null,
   "metadata": {},
   "outputs": [],
   "source": [
    "get_sig_name('R',2)"
   ]
  },
  {
   "cell_type": "code",
   "execution_count": null,
   "metadata": {},
   "outputs": [],
   "source": [
    "# Filter PRN values\n",
    "for prn in prns:\n",
    "    mask = df2[\"PRN\"].str.contains(prn)\n",
    "    df3 = df2[mask]\n",
    "    \n",
    "    # Plot for each PRN\n",
    "    fig,ax = plt.subplots(3, figsize=(10,12))\n",
    "    freq = ['L1', 'L2', 'L5']\n",
    "    for i in range(len(ax)):\n",
    "        sig = i+1 # frequency \n",
    "        \n",
    "        df3.groupby(\"PRN\")[\"S4_sig\"+str(sig)].plot(ax=ax[i], style='o-')\n",
    "\n",
    "        if i==0:\n",
    "            ax[i].set_title(\"Jicamarca\", fontsize=20, fontweight='bold')\n",
    "            ax[i].set_title(fecha, loc=\"left\", fontsize=14, style='normal', name='Ubuntu')\n",
    "\n",
    "        #ax[i].set_title(freq[i] + f\" | {get_name_prn(prn)}\", loc=\"right\", fontsize=14, name = 'Ubuntu')\n",
    "        ax[i].set_title(get_sig_name(prn, sig) + f\" | {get_prn_name(prn)}\", loc=\"right\", fontsize=14, name = 'Ubuntu')\n",
    "        ax[i].set_ylabel(\"S4\", fontsize=14, weight='bold', color='gray')\n",
    "        if i == 2:\n",
    "            ax[i].set_xlabel(\"Time UTC\", fontsize=14, weight='bold', color='gray')\n",
    "        else:\n",
    "            ax[i].set_xlabel(\"\", fontsize=14, weight='bold', color='gray')    \n",
    "\n",
    "        # Rectangle frame width \n",
    "        for axis in ['top','bottom','left','right']:\n",
    "            ax[i].spines[axis].set_linewidth(1.5)\n",
    "\n",
    "        # Ticks format \n",
    "        ax[i].xaxis.set_tick_params(width=2, length=8, which='both', direction='out')\n",
    "        ax[i].yaxis.set_tick_params(width=2, length=15, direction='inout')\n",
    "        ax[i].tick_params(axis='x', which='both', labelsize=12)\n",
    "        ax[i].tick_params(axis='y', labelsize=12)\n",
    "\n",
    "        # Grid and legend \n",
    "        ax[i].grid(which='both', axis='both', ls=':')\n",
    "        if i == 2:\n",
    "            leg = ax[i].legend(loc='upper center', fancybox=True, shadow=True, bbox_to_anchor=(0.5, -0.3), ncol=8, facecolor='whitesmoke')\n",
    "\n",
    "    plt.subplots_adjust(hspace=0.3)\n",
    "    plt.savefig(f\"s4_{get_prn_name(prn)}.pdf\", bbox_inches='tight')"
   ]
  },
  {
   "cell_type": "markdown",
   "metadata": {},
   "source": [
    "## Create and move files "
   ]
  },
  {
   "cell_type": "code",
   "execution_count": null,
   "metadata": {},
   "outputs": [],
   "source": [
    "import glob\n",
    "import os \n",
    "\n",
    "root_path = \"/home/luis/Desktop/Proyects_Files/LISN/GPSs/Tareas/Graficas_cintilaciones/\"\n",
    "input_files_path = root_path + \"Input_data/Data_set/\"\n",
    "input_files_path_op = root_path + \"Input_data/Data_procesada/\"\n",
    "output_files_path = root_path + \"Output_data/\"\n",
    "\n",
    "file_s4 = \"ljic_200806.s4\"\n",
    "directory = file_s4[:-3]\n",
    "directory = output_files_path + directory\n",
    "\n",
    "lista = glob.glob(input_files_path+\"*.s4\")\n",
    "if len(lista)>0:\n",
    "    for archivo in lista:\n",
    "        file_name = archivo[len(input_files_path):]\n",
    "        \n",
    "        if not os.path.exists(directory):\n",
    "            os.makedirs(directory)\n",
    "\n",
    "        os.rename(archivo, input_files_path_op+file_name)\n"
   ]
  },
  {
   "cell_type": "code",
   "execution_count": null,
   "metadata": {},
   "outputs": [],
   "source": []
  },
  {
   "cell_type": "code",
   "execution_count": null,
   "metadata": {},
   "outputs": [],
   "source": []
  },
  {
   "cell_type": "code",
   "execution_count": null,
   "metadata": {},
   "outputs": [],
   "source": []
  },
  {
   "cell_type": "code",
   "execution_count": null,
   "metadata": {},
   "outputs": [],
   "source": []
  },
  {
   "cell_type": "code",
   "execution_count": null,
   "metadata": {},
   "outputs": [],
   "source": []
  },
  {
   "cell_type": "code",
   "execution_count": null,
   "metadata": {},
   "outputs": [],
   "source": []
  },
  {
   "cell_type": "code",
   "execution_count": null,
   "metadata": {},
   "outputs": [],
   "source": [
    "# Filter PRN values which begins with \"G\" letter\n",
    "mask = df2[\"PRN\"].str.contains(\"G\")\n",
    "df3 = df2[mask]"
   ]
  },
  {
   "cell_type": "code",
   "execution_count": null,
   "metadata": {},
   "outputs": [],
   "source": [
    "# Plot by group \n",
    "plt.figure(figsize=(20,10))\n",
    "df3.groupby(\"PRN\")[\"S4_sig1\"].plot(legend=True, title = \"S4\")"
   ]
  },
  {
   "cell_type": "code",
   "execution_count": null,
   "metadata": {},
   "outputs": [],
   "source": [
    "df3.head()"
   ]
  },
  {
   "cell_type": "code",
   "execution_count": null,
   "metadata": {},
   "outputs": [],
   "source": [
    "df3.set_index(\"DateTime\", inplace=True)\n",
    "df3.head()"
   ]
  },
  {
   "cell_type": "code",
   "execution_count": null,
   "metadata": {},
   "outputs": [],
   "source": [
    "# Plot by group \n",
    "fig,ax = plt.subplots(figsize=(10,4))\n",
    "#df3.groupby(\"PRN\")[\"S4_sig3\"].plot(ax=ax, style='o-')\n",
    "df3.groupby(\"PRN\")[\"S4_sig1\"].plot(style='o-')\n",
    "ax = plt.gca() # We need to get an explicit reference to the current Axes \n",
    "ax.set_title(\"Jicamarca\", fontsize=20, fontweight='bold')\n",
    "ax.set_title(\"2020/11/18\", loc=\"left\", fontsize=14, style='normal', name='Ubuntu')#color='darkblue')\n",
    "ax.set_title(\"Scintillation Index | L1 | GPS\", loc=\"right\", fontsize=14, name = 'Ubuntu') #color='darkblue')\n",
    "ax.set_xlabel(\"Time UTC\", fontsize=14, weight='bold', color='gray')\n",
    "ax.set_ylabel(\"S4\", fontsize=14, weight='bold', color='gray')\n",
    "#ax.set_facecolor('whitesmoke')\n",
    "\n",
    "for axis in ['top','bottom','left','right']:\n",
    "    ax.spines[axis].set_linewidth(2)\n",
    "    #ax.spines[axis].set_color(\"gold\")\n",
    "    #ax.spines[axis].set_zorder(0)\n",
    "\n",
    "ax.xaxis.set_tick_params(width=2, length=8, which='both', direction='out')\n",
    "ax.yaxis.set_tick_params(width=2, length=15, direction='inout')\n",
    "#plt.yticks(fontsize=12)\n",
    "#plt.xticks(fontsize=12, )\n",
    "ax.tick_params(axis='x', which='both', labelsize=12)\n",
    "ax.tick_params(axis='y', labelsize=12)\n",
    "\n",
    "ax.grid(which='both', axis='both', ls=':')\n",
    "leg = ax.legend(loc='upper center', fancybox=True, shadow=True, bbox_to_anchor=(0.5, -0.2), ncol=8, facecolor='whitesmoke')\n",
    "\n",
    "plt.savefig(\"s4_gps_l1.pdf\", bbox_inches='tight')"
   ]
  },
  {
   "cell_type": "code",
   "execution_count": null,
   "metadata": {},
   "outputs": [],
   "source": [
    "fig,ax = plt.subplots(3, figsize=(10,12))\n",
    "freq = ['L1', 'L2', 'L5']\n",
    "for i in range(len(ax)):\n",
    "    df3.groupby(\"PRN\")[\"S4_sig\"+str(i+1)].plot(ax=ax[i], style='o-')\n",
    "    \n",
    "    if i==0:\n",
    "        ax[i].set_title(\"Jicamarca\", fontsize=20, fontweight='bold')\n",
    "        ax[i].set_title(\"2020/11/18\", loc=\"left\", fontsize=14, style='normal', name='Ubuntu')#color='darkblue')\n",
    "    \n",
    "    ax[i].set_title(freq[i] + \" | GPS\", loc=\"right\", fontsize=14, name = 'Ubuntu') #color='darkblue')\n",
    "    ax[i].set_ylabel(\"S4\", fontsize=14, weight='bold', color='gray')\n",
    "    if i == 2:\n",
    "        ax[i].set_xlabel(\"Time UTC\", fontsize=14, weight='bold', color='gray')\n",
    "    else:\n",
    "        ax[i].set_xlabel(\"\", fontsize=14, weight='bold', color='gray')    \n",
    "    \n",
    "    # Rectangle frame width \n",
    "    for axis in ['top','bottom','left','right']:\n",
    "        ax[i].spines[axis].set_linewidth(1.5)\n",
    "    \n",
    "    # Ticks format \n",
    "    ax[i].xaxis.set_tick_params(width=2, length=8, which='both', direction='out')\n",
    "    ax[i].yaxis.set_tick_params(width=2, length=15, direction='inout')\n",
    "    ax[i].tick_params(axis='x', which='both', labelsize=12)\n",
    "    ax[i].tick_params(axis='y', labelsize=12)\n",
    "    \n",
    "    # Grid and legend \n",
    "    ax[i].grid(which='both', axis='both', ls=':')\n",
    "    if i == 2:\n",
    "        leg = ax[i].legend(loc='upper center', fancybox=True, shadow=True, bbox_to_anchor=(0.5, -0.3), ncol=8, facecolor='whitesmoke')\n",
    "\n",
    "plt.subplots_adjust(hspace=0.3)\n",
    "plt.savefig(\"s4_gps.pdf\", bbox_inches='tight')"
   ]
  },
  {
   "cell_type": "code",
   "execution_count": null,
   "metadata": {},
   "outputs": [],
   "source": [
    "# Plot for sig1, sig2 y sig3\n",
    "fig,ax = plt.subplots(figsize=(10,4))\n",
    "#df3.groupby(\"PRN\")[\"S4_sig3\"].plot(ax=ax, style='o-')\n",
    "df3.groupby(\"PRN\")[\"S4_sig1\"].plot(style='o-')\n",
    "ax = plt.gca() # We need to get an explicit reference to the current Axes \n",
    "ax.set_title(\"Jicamarca\", fontsize=20, fontweight='bold')\n",
    "ax.set_title(\"2020/11/18\", loc=\"left\", fontsize=14, style='normal', name='Ubuntu')#color='darkblue')\n",
    "ax.set_title(\"Scintillation Index | L1 | GPS\", loc=\"right\", fontsize=14, name = 'Ubuntu') #color='darkblue')\n",
    "ax.set_xlabel(\"Time UTC\", fontsize=14, weight='bold', color='gray')\n",
    "ax.set_ylabel(\"S4\", fontsize=14, weight='bold', color='gray')\n",
    "#ax.set_facecolor('whitesmoke')\n",
    "\n",
    "# Rectangle frame width \n",
    "for axis in ['top','bottom','left','right']:\n",
    "    ax.spines[axis].set_linewidth(1.5)\n",
    "    #ax.spines[axis].set_color(\"gold\")\n",
    "    ax.spines[axis].set_zorder(0)\n",
    "\n",
    "ax.xaxis.set_tick_params(width=2, length=8, which='both', direction='out')\n",
    "ax.yaxis.set_tick_params(width=2, length=15, direction='inout')\n",
    "#plt.yticks(fontsize=12)\n",
    "#plt.xticks(fontsize=12, )\n",
    "ax.tick_params(axis='x', which='both', labelsize=12)\n",
    "ax.tick_params(axis='y', labelsize=12)\n",
    "\n",
    "ax.grid(which='both', axis='both', ls=':')\n",
    "leg = ax.legend(loc='upper center', fancybox=True, shadow=True, bbox_to_anchor=(0.5, -0.2), ncol=8, facecolor='whitesmoke')\n",
    "for t in leg.texts:\n",
    "    t.set_multialignment('center')\n",
    "\n",
    "plt.savefig(\"s4_gps_l1.pdf\", bbox_inches='tight')"
   ]
  },
  {
   "cell_type": "markdown",
   "metadata": {},
   "source": [
    "Look the different fonts for the text"
   ]
  },
  {
   "cell_type": "code",
   "execution_count": null,
   "metadata": {},
   "outputs": [],
   "source": [
    "import matplotlib.font_manager\n",
    "from IPython.core.display import HTML\n",
    "\n",
    "def make_html(fontname):\n",
    "    return \"<p>{font}: <span style='font-family:{font}; font-size: 24px;'>{font}</p>\".format(font=fontname)\n",
    "\n",
    "code = \"\\n\".join([make_html(font) for font in sorted(set([f.name for f in matplotlib.font_manager.fontManager.ttflist]))])\n",
    "\n",
    "HTML(\"<div style='column-count: 2;'>{}</div>\".format(code))"
   ]
  },
  {
   "cell_type": "code",
   "execution_count": null,
   "metadata": {},
   "outputs": [],
   "source": []
  },
  {
   "cell_type": "code",
   "execution_count": null,
   "metadata": {},
   "outputs": [],
   "source": []
  },
  {
   "cell_type": "code",
   "execution_count": null,
   "metadata": {},
   "outputs": [],
   "source": []
  },
  {
   "cell_type": "code",
   "execution_count": null,
   "metadata": {},
   "outputs": [],
   "source": []
  },
  {
   "cell_type": "code",
   "execution_count": null,
   "metadata": {},
   "outputs": [],
   "source": []
  },
  {
   "cell_type": "code",
   "execution_count": null,
   "metadata": {},
   "outputs": [],
   "source": [
    "import "
   ]
  },
  {
   "cell_type": "code",
   "execution_count": null,
   "metadata": {},
   "outputs": [],
   "source": [
    "#%pylab qt\n",
    "%matplotlib inline"
   ]
  },
  {
   "cell_type": "code",
   "execution_count": null,
   "metadata": {},
   "outputs": [],
   "source": [
    "fig = plt.figure()"
   ]
  },
  {
   "cell_type": "code",
   "execution_count": null,
   "metadata": {},
   "outputs": [],
   "source": [
    "ax1 = fig.add_subplot(2,2,1)\n",
    "ax2 = fig.add_subplot(2,2,2)\n",
    "ax3 = fig.add_subplot(2,2,3)"
   ]
  },
  {
   "cell_type": "code",
   "execution_count": null,
   "metadata": {},
   "outputs": [],
   "source": [
    "ax2.plot(np.random.randn(50).cumsum(), 'k--')\n",
    "plt.show()"
   ]
  },
  {
   "cell_type": "code",
   "execution_count": null,
   "metadata": {},
   "outputs": [],
   "source": [
    "ax1.scatter(np.arange(30), np.arange(30) + 3 * np.random.randn(30))"
   ]
  },
  {
   "cell_type": "code",
   "execution_count": null,
   "metadata": {},
   "outputs": [],
   "source": [
    "ax3.hist(np.random.randn(100), bins=20, color='k', alpha=0.3)"
   ]
  },
  {
   "cell_type": "code",
   "execution_count": null,
   "metadata": {},
   "outputs": [],
   "source": [
    "fig, axes = plt.subplots(2,3)"
   ]
  },
  {
   "cell_type": "code",
   "execution_count": null,
   "metadata": {},
   "outputs": [],
   "source": [
    "axes"
   ]
  },
  {
   "cell_type": "code",
   "execution_count": null,
   "metadata": {},
   "outputs": [],
   "source": [
    "fig, axes = plt.subplots(2, 2, sharex=True, sharey=True)\n",
    "for i in range(2):\n",
    "    for j in range(2):\n",
    "        axes[i, j].hist(randn(500), bins=50, color='k', alpha=0.5)\n",
    "plt.subplots_adjust(wspace=0.8, hspace=0.5)"
   ]
  },
  {
   "cell_type": "code",
   "execution_count": null,
   "metadata": {},
   "outputs": [],
   "source": [
    "fig,ax = plt.subplots()\n",
    "ax.plot(randn(1000).cumsum(), label=\"Lima\")\n",
    "ax.plot(randn(1000).cumsum(), label=\"Hyo\")\n",
    "ax.plot(randn(1000).cumsum(), label=\"Iquitos\")\n",
    "ax.set_xticks([0, 250, 500, 750, 1000])\n",
    "ax.set_xticklabels([0,6,12,18,24])\n",
    "ax.xaxis.set_ticks_position('both')\n",
    "#ax.set_yticklabels([\"helado\", \"frio\", \"templado\", \"caliente\", \"horno\"])\n",
    "ax.set_xlabel(\"Time(h)\")\n",
    "ax.set_ylabel(\"Temperature\")\n",
    "ax.set_title(\"Weather forecast\")\n",
    "ax.text(18, 10, 'Hello world!',family='monospace', fontsize=10)\n",
    "ax.legend(loc='best')"
   ]
  },
  {
   "cell_type": "code",
   "execution_count": null,
   "metadata": {},
   "outputs": [],
   "source": [
    "a=\"hola_como estas\"\n",
    "b=a.replace(\"estas\",\"te va\")"
   ]
  },
  {
   "cell_type": "code",
   "execution_count": null,
   "metadata": {},
   "outputs": [],
   "source": [
    "b"
   ]
  },
  {
   "cell_type": "code",
   "execution_count": null,
   "metadata": {},
   "outputs": [],
   "source": [
    "# Plot by group \n",
    "plt.figure(figsize=(20,10))\n",
    "df2.groupby(\"PRN\")[\"S4_sig1\"].plot(legend=True, title = \"S4\")"
   ]
  }
 ],
 "metadata": {
  "kernelspec": {
   "display_name": "Python 3",
   "language": "python",
   "name": "python3"
  },
  "language_info": {
   "codemirror_mode": {
    "name": "ipython",
    "version": 3
   },
   "file_extension": ".py",
   "mimetype": "text/x-python",
   "name": "python",
   "nbconvert_exporter": "python",
   "pygments_lexer": "ipython3",
   "version": "3.7.7"
  }
 },
 "nbformat": 4,
 "nbformat_minor": 4
}
