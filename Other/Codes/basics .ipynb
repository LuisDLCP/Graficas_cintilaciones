{
 "cells": [
  {
   "cell_type": "code",
   "execution_count": 6,
   "metadata": {},
   "outputs": [
    {
     "data": {
      "text/plain": [
       "['G01',\n",
       " 'G02',\n",
       " 'G03',\n",
       " 'G04',\n",
       " 'G05',\n",
       " 'G06',\n",
       " 'G07',\n",
       " 'G08',\n",
       " 'G09',\n",
       " 'G10',\n",
       " 'G11',\n",
       " 'G12',\n",
       " 'G13',\n",
       " 'G14',\n",
       " 'G15',\n",
       " 'G16',\n",
       " 'G17',\n",
       " 'G18',\n",
       " 'G19',\n",
       " 'G20',\n",
       " 'G21',\n",
       " 'G22',\n",
       " 'G23',\n",
       " 'G24',\n",
       " 'G25',\n",
       " 'G26',\n",
       " 'G27',\n",
       " 'G28',\n",
       " 'G29',\n",
       " 'G30',\n",
       " 'G31',\n",
       " 'G32']"
      ]
     },
     "execution_count": 6,
     "metadata": {},
     "output_type": "execute_result"
    }
   ],
   "source": [
    "list_prns = [f'G{i+1:02d}' for i in range(32)]\n",
    "list_prns"
   ]
  },
  {
   "cell_type": "code",
   "execution_count": null,
   "metadata": {},
   "outputs": [],
   "source": []
  }
 ],
 "metadata": {
  "kernelspec": {
   "display_name": "Python 3",
   "language": "python",
   "name": "python3"
  },
  "language_info": {
   "codemirror_mode": {
    "name": "ipython",
    "version": 3
   },
   "file_extension": ".py",
   "mimetype": "text/x-python",
   "name": "python",
   "nbconvert_exporter": "python",
   "pygments_lexer": "ipython3",
   "version": "3.7.7"
  }
 },
 "nbformat": 4,
 "nbformat_minor": 2
}
